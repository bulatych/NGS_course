{
 "cells": [
  {
   "cell_type": "markdown",
   "id": "f0035217-3fec-4590-8f93-45cb83ac4716",
   "metadata": {},
   "source": [
    "# Project 2 “Why did I get the flu?”. Deep sequencing, error control, p-value, viral evolution..\n"
   ]
  },
  {
   "cell_type": "markdown",
   "id": "23e952ae-e58c-49b7-af03-c6d39eda1b84",
   "metadata": {},
   "source": [
    "#### 15.11.24  Rakhimov Bulat"
   ]
  },
  {
   "cell_type": "markdown",
   "id": "e5a50478-b97f-4822-80e0-875851c26438",
   "metadata": {},
   "source": [
    "## Prepare workplace"
   ]
  },
  {
   "cell_type": "code",
   "execution_count": 36,
   "id": "f1cca2d5-1d9e-4196-9375-8a333534a6d3",
   "metadata": {},
   "outputs": [
    {
     "name": "stdout",
     "output_type": "stream",
     "text": [
      "mkdir: невозможно создать каталог «data»: Файл существует\n"
     ]
    }
   ],
   "source": [
    "# ~/.../Project2\n",
    "!mkdir data"
   ]
  },
  {
   "cell_type": "markdown",
   "id": "713603d9-1f32-4709-ac6c-47eba610374d",
   "metadata": {},
   "source": [
    "## Prepare the raw sequencing data"
   ]
  },
  {
   "cell_type": "markdown",
   "id": "65e8ccfa-cf24-41dc-abf3-319728704e8d",
   "metadata": {},
   "source": [
    "Sequencing results are usually stored in the NCBI Sequence Read Archive, or SRA. Your roommate’s data was published there and labeled SRR1705851, so you can download it from the SRA FTP server and unpack it on your machine: http://ftp.sra.ebi.ac.uk/vol1/fastq/SRR170/001/SRR1705851/\n",
    "\n"
   ]
  },
  {
   "cell_type": "code",
   "execution_count": 70,
   "id": "2b562e07-aedf-4887-b145-96a28a3750a4",
   "metadata": {},
   "outputs": [
    {
     "name": "stdout",
     "output_type": "stream",
     "text": [
      "--2024-11-22 23:03:33--  https://ftp.sra.ebi.ac.uk/vol1/fastq/SRR170/001/SRR1705851/SRR1705851.fastq.gz\n",
      "Распознаётся ftp.sra.ebi.ac.uk (ftp.sra.ebi.ac.uk)… 193.62.193.165\n",
      "Подключение к ftp.sra.ebi.ac.uk (ftp.sra.ebi.ac.uk)|193.62.193.165|:443... соединение установлено.\n",
      "HTTP-запрос отправлен. Ожидание ответа… 200 OK\n",
      "Длина: 19217176 (18M) [application/x-gzip]\n",
      "Сохранение в: «SRR1705851.fastq.gz.1»\n",
      "\n",
      "SRR1705851.fastq.gz 100%[===================>]  18,33M   903KB/s    за 48s     \n",
      "\n",
      "2024-11-22 23:04:30 (391 KB/s) - «SRR1705851.fastq.gz.1» сохранён [19217176/19217176]\n",
      "\n"
     ]
    }
   ],
   "source": [
    "!wget https://ftp.sra.ebi.ac.uk/vol1/fastq/SRR170/001/SRR1705851/SRR1705851.fastq.gz \n",
    "!mv ./SRR1705851.fastq.gz ./data/SRR1705851.fastq.gz"
   ]
  },
  {
   "cell_type": "markdown",
   "id": "126878ca-8f86-4d86-80f9-b888ac7c13eb",
   "metadata": {},
   "source": [
    "Open the sequence files and verify that the format is correct."
   ]
  },
  {
   "cell_type": "code",
   "execution_count": 71,
   "id": "7855b7a9-d94a-4041-adb9-254fbc168c42",
   "metadata": {},
   "outputs": [
    {
     "name": "stdout",
     "output_type": "stream",
     "text": [
      "@SRR1705851.1 1/1\n",
      "TTCGTGATTGTTTTCACTATCGTTCCGTTTGGCACTGCATGGTGCCCAAGGCACAGCGTTGCCGTGCTGTTGTCATTTCCAGGAAGTTTTTGAGCGAAAACCAGACATAGAATGTAGCTCAAAGCAATGATAGTCTTCATGGTTAATAG\n",
      "+\n",
      ",<==<<<<A@@@@@@@EEE;CEE+AC>EC;>EFFDC@=A@AE999DDD>>@E777EE75C>EF>EDEEFFFF--AE>EDEEEED=C-58AE=<D=<<DD=D9CDD@EEDED@DEDDE*9;@DDED@@@7@E*;*888@*8;@8@;;@@E\n",
      "@SRR1705851.2 2/1\n",
      "NATTAACCATGAAGACTATCATTGCTTTGAGCTACATTCTATGTCTGGTTTTCGCTCAAAAACTTCCTGGAAATGACAACAGCACGGCAACGCTGTGCCTTGGGCACCATGCAGTGCCAAACGGAACGATAGTGAAAACAATCACGAATGA\n",
      "+\n",
      "#5<???BBEEEDEDDDGGGGGGIIIIIIIIIIIIIIIIIIIIIHIIIIFHHIIHHHHHIIIIHIIIIIIIHIIIIIIIIIIIIIIHHHHHHHHHHEHHHHHFFHHHHHHFFHHGFGGGGGGGGGGGGGEEEGCEEGGGGGEEGGGGCGEGG\n",
      "@SRR1705851.3 3/1\n",
      "GTTTGGCACTGCATGGTGCCCAAGGCACAGCGTTGCCGTGCTGTTGTCATTTCCAGGAAGTTTTTGAGCGAAAACCAGACATAGAATGTAGCTCAAAGCAATGATAGTCTTCATGGTTAATAG\n",
      "+\n",
      "9=9===>>@@@--5-588C;C;6+AE>6-A@+7>++-+@C+A.ECFE..8E.8--AE+C,EA@FEC5+-**55C-++++++++==D+5+,,+++++6CEDE====C=3C:@D+2++2<:DE2*\n",
      "@SRR1705851.4 4/1\n",
      "GTGCCCAAGGCACAGCGTTGCCGTGCTGTTGTCATTTCCAGGAAGTTTTTGAGCGAAAACCAGACATAGAATGTAGCTCAAAGCAATGATAGTCTTCATGGTTAATAG\n",
      "+\n",
      "?????BB?BBDBBDBDDEEDEFHHHHHHFHCFHHHHHFHHHHCFHAFHHHHHHGHHCCEEED@@CCFFFHHHHHHHHFHHHHHHHFHHHHHFCFHCFDFFH?DD>CFF\n",
      "@SRR1705851.5 5/1\n",
      "GTGATTGTTTTCACTATCGTTCCGTTTGGCACTGCATGGTGCCCAAGGCACAGCGTTGCCGTGCTGTTGTCATTTCCAGGAAGTTTTTGAGCGAAAACCAGACATAGAATGTAGCTCAAAGCAATGATAGTCTTCATGGTTAATAG\n",
      "+\n",
      "?????BBBDDDDDEEEGGGGGGIHHHIHHIIIIIIIIIICGGIIIIHIIIIIIIHEEHHHHDEEFHHHFHHIIIIIHHIIIIHDGHIIHHHHHEEHHHHHHHHHGGGGGGHGGGGGEGGGGGGHGGGGGGEGGGGEEGG>CGGGGG\n"
     ]
    }
   ],
   "source": [
    "!zless ./data/SRR1705851.fastq.gz | head -20"
   ]
  },
  {
   "cell_type": "markdown",
   "id": "bbad0b10-c6f1-450d-a116-6a3d08b51fe9",
   "metadata": {},
   "source": [
    "To see how many lines there are in each fastq file"
   ]
  },
  {
   "cell_type": "code",
   "execution_count": 72,
   "id": "d91f98af-5abf-41da-ae9a-580de955712a",
   "metadata": {},
   "outputs": [
    {
     "name": "stdout",
     "output_type": "stream",
     "text": [
      "358265\n"
     ]
    }
   ],
   "source": [
    "!zless ./data/SRR1705851.fastq.gz | grep -c '@SRR' "
   ]
  },
  {
   "cell_type": "code",
   "execution_count": 73,
   "id": "139542ef-6a7b-4739-9980-cac0135de490",
   "metadata": {},
   "outputs": [
    {
     "name": "stdout",
     "output_type": "stream",
     "text": [
      "1433060\n"
     ]
    }
   ],
   "source": [
    "!zcat ./data/SRR1705851.fastq.gz | wc -l"
   ]
  },
  {
   "cell_type": "code",
   "execution_count": 66,
   "id": "ca46d566-8689-4dd8-b98e-b4add3cb5451",
   "metadata": {},
   "outputs": [
    {
     "data": {
      "text/plain": [
       "358265.0"
      ]
     },
     "execution_count": 66,
     "metadata": {},
     "output_type": "execute_result"
    }
   ],
   "source": [
    "1433060 / 4"
   ]
  },
  {
   "cell_type": "markdown",
   "id": "4711b683-7022-48a2-9e92-5f72ebb309b0",
   "metadata": {},
   "source": [
    "## Read processing "
   ]
  },
  {
   "cell_type": "markdown",
   "id": "6545cec4-d9c8-456e-a47f-5c22dd8dc1f4",
   "metadata": {},
   "source": [
    "### Quality control"
   ]
  },
  {
   "cell_type": "code",
   "execution_count": 5,
   "id": "18a4aa44-d57c-4d0a-815c-d45a7b5aff28",
   "metadata": {},
   "outputs": [
    {
     "name": "stdout",
     "output_type": "stream",
     "text": [
      "mkdir: невозможно создать каталог «./data/fastqc_report»: Файл существует\n"
     ]
    }
   ],
   "source": [
    "!mkdir ./data/fastqc_report"
   ]
  },
  {
   "cell_type": "code",
   "execution_count": 74,
   "id": "0eba0b0a-a43f-4e57-a98f-695dccdc6c2c",
   "metadata": {},
   "outputs": [
    {
     "name": "stdout",
     "output_type": "stream",
     "text": [
      "application/gzip\n",
      "Started analysis of SRR1705851.fastq.gz\n",
      "Approx 5% complete for SRR1705851.fastq.gz\n",
      "Approx 10% complete for SRR1705851.fastq.gz\n",
      "Approx 15% complete for SRR1705851.fastq.gz\n",
      "Approx 20% complete for SRR1705851.fastq.gz\n",
      "Approx 25% complete for SRR1705851.fastq.gz\n",
      "Approx 30% complete for SRR1705851.fastq.gz\n",
      "Approx 35% complete for SRR1705851.fastq.gz\n",
      "Approx 40% complete for SRR1705851.fastq.gz\n",
      "Approx 45% complete for SRR1705851.fastq.gz\n",
      "Approx 50% complete for SRR1705851.fastq.gz\n",
      "Approx 55% complete for SRR1705851.fastq.gz\n",
      "Approx 60% complete for SRR1705851.fastq.gz\n",
      "Approx 65% complete for SRR1705851.fastq.gz\n",
      "Approx 70% complete for SRR1705851.fastq.gz\n",
      "Approx 75% complete for SRR1705851.fastq.gz\n",
      "Approx 80% complete for SRR1705851.fastq.gz\n",
      "Approx 85% complete for SRR1705851.fastq.gz\n",
      "Approx 90% complete for SRR1705851.fastq.gz\n",
      "Approx 95% complete for SRR1705851.fastq.gz\n",
      "Analysis complete for SRR1705851.fastq.gz\n"
     ]
    }
   ],
   "source": [
    "!fastqc -o ./data/fastqc_report ./data/SRR1705851.fastq.gz --threads 12"
   ]
  },
  {
   "cell_type": "markdown",
   "id": "1a708f4a-845d-4198-90bd-7ee3f4770177",
   "metadata": {},
   "source": [
    "### Reads filtering"
   ]
  },
  {
   "cell_type": "code",
   "execution_count": 75,
   "id": "06baccc1-66f4-414d-bb4c-75e667b8cc7e",
   "metadata": {},
   "outputs": [
    {
     "name": "stdout",
     "output_type": "stream",
     "text": [
      "TrimmomaticSE: Started with arguments:\n",
      " -phred33 ./data/SRR1705851.fastq.gz ./data/SRR1705851_trim.fastq LEADING:20 TRAILING:20 SLIDINGWINDOW:10:20 MINLEN:30\n",
      "Automatically using 1 threads\n",
      "Input Reads: 358265 Surviving: 356827 (99,60%) Dropped: 1438 (0,40%)\n",
      "TrimmomaticSE: Completed successfully\n"
     ]
    }
   ],
   "source": [
    "!trimmomatic SE -phred33 ./data/SRR1705851.fastq.gz ./data/SRR1705851_trim.fastq LEADING:20 TRAILING:20 SLIDINGWINDOW:10:20 MINLEN:30"
   ]
  },
  {
   "cell_type": "markdown",
   "id": "92c37f39-7471-4d41-934c-ebf5f0913db7",
   "metadata": {},
   "source": [
    "### Repeat quality control"
   ]
  },
  {
   "cell_type": "code",
   "execution_count": 76,
   "id": "40922272-a5a2-4644-9edc-bddb4e3a74b6",
   "metadata": {},
   "outputs": [
    {
     "name": "stdout",
     "output_type": "stream",
     "text": [
      "null\n",
      "Started analysis of SRR1705851_trim.fastq\n",
      "Approx 5% complete for SRR1705851_trim.fastq\n",
      "Approx 10% complete for SRR1705851_trim.fastq\n",
      "Approx 15% complete for SRR1705851_trim.fastq\n",
      "Approx 20% complete for SRR1705851_trim.fastq\n",
      "Approx 25% complete for SRR1705851_trim.fastq\n",
      "Approx 30% complete for SRR1705851_trim.fastq\n",
      "Approx 35% complete for SRR1705851_trim.fastq\n",
      "Approx 40% complete for SRR1705851_trim.fastq\n",
      "Approx 45% complete for SRR1705851_trim.fastq\n",
      "Approx 50% complete for SRR1705851_trim.fastq\n",
      "Approx 55% complete for SRR1705851_trim.fastq\n",
      "Approx 60% complete for SRR1705851_trim.fastq\n",
      "Approx 65% complete for SRR1705851_trim.fastq\n",
      "Approx 70% complete for SRR1705851_trim.fastq\n",
      "Approx 75% complete for SRR1705851_trim.fastq\n",
      "Approx 80% complete for SRR1705851_trim.fastq\n",
      "Approx 85% complete for SRR1705851_trim.fastq\n",
      "Approx 90% complete for SRR1705851_trim.fastq\n",
      "Approx 95% complete for SRR1705851_trim.fastq\n",
      "Analysis complete for SRR1705851_trim.fastq\n"
     ]
    }
   ],
   "source": [
    "!fastqc -o ./data/fastqc_report ./data/SRR1705851_trim.fastq --threads 12"
   ]
  },
  {
   "cell_type": "markdown",
   "id": "9c8ff5a0-d141-4a78-9e34-ed07953d7b94",
   "metadata": {},
   "source": [
    "## Prepare reference HA gene sequence¶"
   ]
  },
  {
   "cell_type": "markdown",
   "id": "0a8ab8f6-5e0f-4acc-a795-3767427e1225",
   "metadata": {},
   "source": [
    "Download reference HA gene sequence using `EntrezDirect` utility"
   ]
  },
  {
   "cell_type": "code",
   "execution_count": 1,
   "id": "06b70a17-d280-4a29-ac9d-92cd15c32c57",
   "metadata": {},
   "outputs": [],
   "source": [
    "''' ADVANCED '''\n",
    "#!conda install bioconda::entrez-direct\n",
    "!efetch -db nucleotide -id KF848938.1 -format fasta > ./data/HA_ref.fasta"
   ]
  },
  {
   "cell_type": "code",
   "execution_count": 10,
   "id": "204cd158-ab84-4d99-b436-432c138ea83f",
   "metadata": {},
   "outputs": [
    {
     "name": "stdout",
     "output_type": "stream",
     "text": [
      "mkdir: невозможно создать каталог «./aln»: Файл существует\n",
      "mkdir: невозможно создать каталог «./ref»: Файл существует\n"
     ]
    }
   ],
   "source": [
    "!mkdir ./aln \n",
    "!mkdir ./ref"
   ]
  },
  {
   "cell_type": "code",
   "execution_count": 2,
   "id": "dbe42466-7321-474d-844a-ad8bb3331e18",
   "metadata": {},
   "outputs": [
    {
     "name": "stdout",
     "output_type": "stream",
     "text": [
      "[bwa_index] Pack FASTA... 0.00 sec\n",
      "[bwa_index] Construct BWT for the packed sequence...\n",
      "[bwa_index] 0.00 seconds elapse.\n",
      "[bwa_index] Update BWT... 0.00 sec\n",
      "[bwa_index] Pack forward-only FASTA... 0.00 sec\n",
      "[bwa_index] Construct SA from BWT and Occ... 0.00 sec\n",
      "[main] Version: 0.7.18-r1243-dirty\n",
      "[main] CMD: bwa index -p ./ref/HA_ref ./data/HA_ref.fasta\n",
      "[main] Real time: 0.017 sec; CPU: 0.016 sec\n"
     ]
    }
   ],
   "source": [
    "!bwa index ./data/HA_ref.fasta -p ./ref/HA_ref"
   ]
  },
  {
   "cell_type": "code",
   "execution_count": 3,
   "id": "c96da076-1615-46dd-b379-b82d1968100f",
   "metadata": {},
   "outputs": [
    {
     "name": "stdout",
     "output_type": "stream",
     "text": [
      "[M::bwa_idx_load_from_disk] read 0 ALT contigs\n",
      "[M::process] read 69192 sequences (10000108 bp)...\n",
      "[M::process] read 68586 sequences (10000065 bp)...\n",
      "[M::mem_process_seqs] Processed 69192 reads in 2.495 CPU sec, 2.401 real sec\n",
      "[M::process] read 68414 sequences (10000042 bp)...\n",
      "[M::mem_process_seqs] Processed 68586 reads in 1.908 CPU sec, 1.805 real sec\n",
      "[M::process] read 68546 sequences (10000082 bp)...\n",
      "[M::mem_process_seqs] Processed 68414 reads in 2.451 CPU sec, 2.351 real sec\n",
      "[M::process] read 69188 sequences (10000076 bp)...\n",
      "[M::mem_process_seqs] Processed 68546 reads in 2.298 CPU sec, 2.202 real sec\n",
      "[M::process] read 12901 sequences (1795937 bp)...\n",
      "[M::mem_process_seqs] Processed 69188 reads in 1.233 CPU sec, 1.190 real sec\n",
      "[M::mem_process_seqs] Processed 12901 reads in 0.318 CPU sec, 0.291 real sec\n",
      "[main] Version: 0.7.18-r1243-dirty\n",
      "[main] CMD: bwa mem ./ref/HA_ref ./data/SRR1705851_trim.fastq\n",
      "[main] Real time: 10.434 sec; CPU: 10.815 sec\n"
     ]
    }
   ],
   "source": [
    "''' ADVANCED '''\n",
    "!bwa mem ./ref/HA_ref ./data/SRR1705851_trim.fastq | samtools view -S -b - | samtools sort -o ./aln/alignment.bam"
   ]
  },
  {
   "cell_type": "code",
   "execution_count": 80,
   "id": "f3d952d1-6e46-4f95-851d-d29c9c78dee9",
   "metadata": {},
   "outputs": [],
   "source": [
    "!samtools index ./aln/alignment.bam"
   ]
  },
  {
   "cell_type": "code",
   "execution_count": 7,
   "id": "65242cbd-517f-4793-be35-4e3f28c24111",
   "metadata": {},
   "outputs": [
    {
     "name": "stdout",
     "output_type": "stream",
     "text": [
      "356434\n"
     ]
    }
   ],
   "source": [
    "!samtools view -c -F 2308 ./aln/alignment.bam"
   ]
  },
  {
   "cell_type": "code",
   "execution_count": 81,
   "id": "f361cdca-0996-4a8b-8704-d987e89e768b",
   "metadata": {},
   "outputs": [
    {
     "name": "stdout",
     "output_type": "stream",
     "text": [
      "359849 + 0 in total (QC-passed reads + QC-failed reads)\n",
      "356827 + 0 primary\n",
      "0 + 0 secondary\n",
      "3022 + 0 supplementary\n",
      "0 + 0 duplicates\n",
      "0 + 0 primary duplicates\n",
      "359456 + 0 mapped (99.89% : N/A)\n",
      "356434 + 0 primary mapped (99.89% : N/A)\n",
      "0 + 0 paired in sequencing\n",
      "0 + 0 read1\n",
      "0 + 0 read2\n",
      "0 + 0 properly paired (N/A : N/A)\n",
      "0 + 0 with itself and mate mapped\n",
      "0 + 0 singletons (N/A : N/A)\n",
      "0 + 0 with mate mapped to a different chr\n",
      "0 + 0 with mate mapped to a different chr (mapQ>=5)\n"
     ]
    }
   ],
   "source": [
    "!samtools flagstat ./aln/alignment.bam"
   ]
  },
  {
   "cell_type": "code",
   "execution_count": 51,
   "id": "307a94c4-915d-4a42-902b-222f9a6711a6",
   "metadata": {},
   "outputs": [
    {
     "name": "stdout",
     "output_type": "stream",
     "text": [
      "[M::bwa_idx_load_from_disk] read 0 ALT contigs\n",
      "[M::process] read 69192 sequences (10000108 bp)...\n",
      "[M::process] read 68586 sequences (10000065 bp)...\n",
      "[M::mem_process_seqs] Processed 69192 reads in 2.408 CPU sec, 2.331 real sec\n",
      "[M::process] read 68414 sequences (10000042 bp)...\n",
      "[M::mem_process_seqs] Processed 68586 reads in 1.903 CPU sec, 1.795 real sec\n",
      "[M::process] read 68546 sequences (10000082 bp)...\n",
      "[M::mem_process_seqs] Processed 68414 reads in 2.458 CPU sec, 2.354 real sec\n",
      "[M::process] read 69188 sequences (10000076 bp)...\n",
      "[M::mem_process_seqs] Processed 68546 reads in 2.376 CPU sec, 2.280 real sec\n",
      "[M::process] read 12901 sequences (1795937 bp)...\n",
      "[M::mem_process_seqs] Processed 69188 reads in 1.586 CPU sec, 1.512 real sec\n",
      "[M::mem_process_seqs] Processed 12901 reads in 0.310 CPU sec, 0.274 real sec\n",
      "[main] Version: 0.7.18-r1243-dirty\n",
      "[main] CMD: bwa mem ./ref/HA_ref ./data/SRR1705851_trim.fastq\n",
      "[main] Real time: 10.684 sec; CPU: 11.156 sec\n"
     ]
    }
   ],
   "source": [
    "# It’s good to check that we selected correct reference - we can count the unmapped reads that mapped\n",
    "!bwa mem ./ref/HA_ref ./data/SRR1705851_trim.fastq > ./aln/alignment.sam"
   ]
  },
  {
   "cell_type": "code",
   "execution_count": 52,
   "id": "38198f37-2210-475c-819f-6c6508c72860",
   "metadata": {},
   "outputs": [
    {
     "name": "stdout",
     "output_type": "stream",
     "text": [
      "393\n"
     ]
    }
   ],
   "source": [
    "!samtools view -c -f 4 ./aln/alignment.sam"
   ]
  },
  {
   "cell_type": "code",
   "execution_count": 17,
   "id": "5865edbc-dd7e-47ea-b772-4573277ca492",
   "metadata": {},
   "outputs": [
    {
     "data": {
      "text/plain": [
       "356434"
      ]
     },
     "execution_count": 17,
     "metadata": {},
     "output_type": "execute_result"
    }
   ],
   "source": [
    "356827 - 393"
   ]
  },
  {
   "cell_type": "markdown",
   "id": "0db3bee3-a4db-4223-ae69-2e340db34b44",
   "metadata": {},
   "source": [
    "Сalculate reference coverage by reads:\n",
    "\n",
    "coverage = (read count * read length ) / total genome size"
   ]
  },
  {
   "cell_type": "code",
   "execution_count": 18,
   "id": "27333a46-78ee-433c-a05b-db4987c1c3c3",
   "metadata": {},
   "outputs": [
    {
     "data": {
      "text/plain": [
       "90.5"
      ]
     },
     "execution_count": 18,
     "metadata": {},
     "output_type": "execute_result"
    }
   ],
   "source": [
    "# average read length\n",
    "(30 + 151) / 2"
   ]
  },
  {
   "cell_type": "code",
   "execution_count": 19,
   "id": "a4a4c048-d2dd-4f05-a083-8a06ab9c0415",
   "metadata": {},
   "outputs": [
    {
     "data": {
      "text/plain": [
       "19373.73993993994"
      ]
     },
     "execution_count": 19,
     "metadata": {},
     "output_type": "execute_result"
    }
   ],
   "source": [
    "# coverage\n",
    "(356434 * 90.5) / 1665"
   ]
  },
  {
   "cell_type": "markdown",
   "id": "1df4941e-0921-464b-b1a5-9ddd429421c1",
   "metadata": {},
   "source": [
    "## Look for common variants"
   ]
  },
  {
   "cell_type": "markdown",
   "id": "857921da-7acb-48f4-8cd2-d5211cae5415",
   "metadata": {},
   "source": [
    "The goal now is to go through our data, and for each position in the reference, see how many reads have a mutation at the same position - we want to distinguish actual mutations from the sequencing errors. The solution is to make an intermediate file type called an mpileup, because it goes through each position and “piles up” the reads, tabulating the number of bases that match or don’t match the reference.\n",
    "\n",
    "To save computing power, the default behavior of samtools is to stop piling up the base calls at each position when it gets to 8000 calls. Since our variants may be quite rare, set that depth limit to something we know is higher than our coverage with the -d flag."
   ]
  },
  {
   "cell_type": "code",
   "execution_count": 20,
   "id": "25e8e1db-5273-4109-944a-42d6fd65e38c",
   "metadata": {},
   "outputs": [
    {
     "name": "stdout",
     "output_type": "stream",
     "text": [
      "mkdir: невозможно создать каталог «./variants»: Файл существует\n"
     ]
    }
   ],
   "source": [
    "!mkdir ./variants"
   ]
  },
  {
   "cell_type": "code",
   "execution_count": 53,
   "id": "8849c277-6cc2-4037-8a4d-8d7a372c30bf",
   "metadata": {},
   "outputs": [
    {
     "name": "stdout",
     "output_type": "stream",
     "text": [
      "[mpileup] 1 samples in 1 input files\n"
     ]
    }
   ],
   "source": [
    "!samtools mpileup -d 20000 -f ./data/HA_ref.fasta ./aln/alignment.bam > ./variants/flu.mpileup\t"
   ]
  },
  {
   "cell_type": "markdown",
   "id": "e119003c-ed3c-4592-8d70-86bb6d2f0bf5",
   "metadata": {},
   "source": [
    "First, look for positions where most of the viruses infecting your roommate differ from the reference. Maybe there is a common mutation that wouldn’t have shown up in the HI test. We use a high minimum variant frequency cut-off (N) to find only those mutants present in most (95% or more = 0.95) of the viral DNA molecules.\n"
   ]
  },
  {
   "cell_type": "code",
   "execution_count": 54,
   "id": "38039517-d24f-40fe-8eaf-1ac2b88fbd5e",
   "metadata": {},
   "outputs": [
    {
     "name": "stdout",
     "output_type": "stream",
     "text": [
      "Only SNPs will be reported\n",
      "Warning: No p-value threshold provided, so p-values will not be calculated\n",
      "Min coverage:\t8\n",
      "Min reads2:\t2\n",
      "Min var freq:\t0.95\n",
      "Min avg qual:\t15\n",
      "P-value thresh:\t0.01\n",
      "Reading input from ./variants/flu.mpileup\n",
      "1665 bases in pileup file\n",
      "5 variant positions (5 SNP, 0 indel)\n",
      "0 were failed by the strand-filter\n",
      "5 variant positions reported (5 SNP, 0 indel)\n"
     ]
    }
   ],
   "source": [
    "!varscan mpileup2snp ./variants/flu.mpileup --min-var-freq 0.95 --variants --output-vcf 1 > ./variants/flu_VarScan_0.95.vcf"
   ]
  },
  {
   "cell_type": "markdown",
   "id": "03446d40-d81b-453f-9ff8-c67a59b1de7a",
   "metadata": {},
   "source": [
    "We can pull out the variants in a convenient format using awk or any parsing tool of your choice. Awk excels at parsing delimited data where you have a lot of fields, like in a vcf file.\n",
    "The simplest form of an awk command is\n",
    "\n",
    "We just need to extract some particular columns from our file. awk script below only output the fields you are interested in (reference, position, alternate). \n",
    "\n",
    "\n"
   ]
  },
  {
   "cell_type": "code",
   "execution_count": 55,
   "id": "30e870e8-8dc5-4d30-9930-9ac7f7c98af4",
   "metadata": {},
   "outputs": [
    {
     "name": "stdout",
     "output_type": "stream",
     "text": [
      "KF848938.1 72 A G\n",
      "KF848938.1 117 C T\n",
      "KF848938.1 774 T C\n",
      "KF848938.1 999 C T\n",
      "KF848938.1 1260 A C\n"
     ]
    }
   ],
   "source": [
    "cat ./variants/flu_VarScan_0.95.vcf | awk 'NR>24 {print $1, $2, $4, $5}'"
   ]
  },
  {
   "cell_type": "markdown",
   "id": "3148b850-0cfb-4909-8fd4-0ebefb9b298b",
   "metadata": {},
   "source": [
    "Now try looking for rare variants. Set the minimum variant frequency to 0.001 (0.1%) and run the scan again on the same mpileup file. How many variants are reported back now, and how abundant are they? There is a value in the FREQ field buried deeply in the 10th column of vcf file - you can eyeball it or, again, pull it out with awk."
   ]
  },
  {
   "cell_type": "code",
   "execution_count": 56,
   "id": "8deb93a0-38be-4e0f-88e1-022df2ae7bfe",
   "metadata": {},
   "outputs": [
    {
     "name": "stdout",
     "output_type": "stream",
     "text": [
      "Only SNPs will be reported\n",
      "Warning: No p-value threshold provided, so p-values will not be calculated\n",
      "Min coverage:\t8\n",
      "Min reads2:\t2\n",
      "Min var freq:\t0.001\n",
      "Min avg qual:\t15\n",
      "P-value thresh:\t0.01\n",
      "Reading input from ./variants/flu.mpileup\n",
      "1665 bases in pileup file\n",
      "20 variant positions (18 SNP, 2 indel)\n",
      "0 were failed by the strand-filter\n",
      "18 variant positions reported (18 SNP, 0 indel)\n"
     ]
    }
   ],
   "source": [
    "!varscan mpileup2snp ./variants/flu.mpileup --min-var-freq 0.001 --variants --output-vcf 1 > ./variants/flu_VarScan_0.001.vcf"
   ]
  },
  {
   "cell_type": "code",
   "execution_count": 57,
   "id": "d7ee16c7-5247-47cd-b53b-54e061ee1e79",
   "metadata": {},
   "outputs": [
    {
     "name": "stdout",
     "output_type": "stream",
     "text": [
      "KF848938.1 72 A G 99.94%\n",
      "KF848938.1 117 C T 99.73%\n",
      "KF848938.1 165 T C 0.2%\n",
      "KF848938.1 254 A G 0.2%\n",
      "KF848938.1 276 A G 0.19%\n",
      "KF848938.1 307 C T 0.9%\n",
      "KF848938.1 389 T C 0.23%\n",
      "KF848938.1 722 A G 0.22%\n",
      "KF848938.1 774 T C 99.96%\n",
      "KF848938.1 802 A G 0.21%\n",
      "KF848938.1 913 T C 0.2%\n",
      "KF848938.1 915 T C 0.24%\n",
      "KF848938.1 999 C T 99.86%\n",
      "KF848938.1 1086 A G 0.24%\n",
      "KF848938.1 1213 A G 0.26%\n",
      "KF848938.1 1260 A C 99.92%\n",
      "KF848938.1 1280 T C 0.19%\n",
      "KF848938.1 1458 T C 0.81%\n"
     ]
    }
   ],
   "source": [
    "cat ./variants/flu_VarScan_0.001.vcf | awk 'NR>24 { split($10, subfield, \":\"); print $1, $2, $4, $5, subfield[7] }'\n"
   ]
  },
  {
   "cell_type": "code",
   "execution_count": 58,
   "id": "bc35e671-abe0-4dd9-b711-bd5b4c2401e2",
   "metadata": {},
   "outputs": [],
   "source": [
    "# save to file\n",
    "!cat ./variants/flu_VarScan_0.001.vcf | awk 'NR>24 { split($10, subfield, \":\"); print $1, $2, $4, $5, subfield[7] }'  > ./variants/flu_muts.txt"
   ]
  },
  {
   "cell_type": "markdown",
   "id": "01a47684-b38b-46b4-bf6d-635c7af86696",
   "metadata": {},
   "source": [
    "It’s very difficult to tell the difference between real, rare mutants in the viral population, and errors introduced in the sequencing and amplification process.\n",
    "\n",
    "We can take a control reaction with an isogenic viral sample (all virus particles genetically identical) derived from a virus clone that matches the reference sequence (H3N2 influenza virus). By looking at the errors in this reference and comparing them to the mutations in your roommate’s sample, you hope you’ll be able to figure out which variants are real.\n",
    "\n",
    "Any “mutations” you detect in the control samples which don’t contain any true genetic variants must be due to errors. You can use the frequency of the errors from the control to help figure out what’s an error and what’s a true variant in the data from your roommate."
   ]
  },
  {
   "cell_type": "markdown",
   "id": "b71531e5-9fc6-4abc-8b63-c23fd5e25684",
   "metadata": {},
   "source": [
    "## Prepare the control sequencing data"
   ]
  },
  {
   "cell_type": "code",
   "execution_count": 27,
   "id": "1b8e92bc-c6c3-4d50-a59e-a4b1b4c64e63",
   "metadata": {},
   "outputs": [
    {
     "name": "stdout",
     "output_type": "stream",
     "text": [
      "mkdir: невозможно создать каталог «./control_data»: Файл существует\n"
     ]
    }
   ],
   "source": [
    "!mkdir ./control_data"
   ]
  },
  {
   "cell_type": "code",
   "execution_count": 28,
   "id": "f3702378-0390-4639-abe0-2c55bf57ec93",
   "metadata": {},
   "outputs": [
    {
     "name": "stdout",
     "output_type": "stream",
     "text": [
      "--2024-11-22 16:36:42--  ftp://ftp.sra.ebi.ac.uk/vol1/fastq/SRR170/008/SRR1705858/SRR1705858.fastq.gz\n",
      "           => «SRR1705858.fastq.gz»\n",
      "Распознаётся ftp.sra.ebi.ac.uk (ftp.sra.ebi.ac.uk)… 193.62.193.165\n",
      "Подключение к ftp.sra.ebi.ac.uk (ftp.sra.ebi.ac.uk)|193.62.193.165|:21... соединение установлено.\n",
      "Выполняется вход под именем anonymous … Выполнен вход в систему!\n",
      "==> SYST ... готово.  ==> PWD ... готово.\n",
      "==> TYPE I ... готово.   ==> CWD (1) /vol1/fastq/SRR170/008/SRR1705858 ... готово.\n",
      "==> SIZE SRR1705858.fastq.gz ... 14782243\n",
      "==> PASV ... готово.  ==> RETR SRR1705858.fastq.gz ... готово.\n",
      "Размер (байт): 14782243 (14M) (не достоверно)\n",
      "\n",
      "SRR1705858.fastq.gz 100%[===================>]  14,10M  1,77MB/s    за 8,3s    \n",
      "\n",
      "2024-11-22 16:36:53 (1,69 MB/s) - «SRR1705858.fastq.gz» сохранён [14782243]\n",
      "\n",
      "--2024-11-22 16:36:53--  ftp://ftp.sra.ebi.ac.uk/vol1/fastq/SRR170/009/SRR1705859/SRR1705859.fastq.gz\n",
      "           => «SRR1705859.fastq.gz»\n",
      "Распознаётся ftp.sra.ebi.ac.uk (ftp.sra.ebi.ac.uk)… 193.62.193.165\n",
      "Подключение к ftp.sra.ebi.ac.uk (ftp.sra.ebi.ac.uk)|193.62.193.165|:21... соединение установлено.\n",
      "Выполняется вход под именем anonymous … Выполнен вход в систему!\n",
      "==> SYST ... готово.  ==> PWD ... готово.\n",
      "==> TYPE I ... готово.   ==> CWD (1) /vol1/fastq/SRR170/009/SRR1705859 ... готово.\n",
      "==> SIZE SRR1705859.fastq.gz ... 13581641\n",
      "==> PASV ... готово.  ==> RETR SRR1705859.fastq.gz ... готово.\n",
      "Размер (байт): 13581641 (13M) (не достоверно)\n",
      "\n",
      "SRR1705859.fastq.gz 100%[===================>]  12,95M  1,48MB/s    за 8,8s    \n",
      "\n",
      "2024-11-22 16:37:03 (1,47 MB/s) - «SRR1705859.fastq.gz» сохранён [13581641]\n",
      "\n",
      "--2024-11-22 16:37:03--  ftp://ftp.sra.ebi.ac.uk/vol1/fastq/SRR170/000/SRR1705860/SRR1705860.fastq.gz\n",
      "           => «SRR1705860.fastq.gz»\n",
      "Распознаётся ftp.sra.ebi.ac.uk (ftp.sra.ebi.ac.uk)… 193.62.193.165\n",
      "Подключение к ftp.sra.ebi.ac.uk (ftp.sra.ebi.ac.uk)|193.62.193.165|:21... соединение установлено.\n",
      "Выполняется вход под именем anonymous … Выполнен вход в систему!\n",
      "==> SYST ... готово.  ==> PWD ... готово.\n",
      "==> TYPE I ... готово.   ==> CWD (1) /vol1/fastq/SRR170/000/SRR1705860 ... готово.\n",
      "==> SIZE SRR1705860.fastq.gz ... 14372113\n",
      "==> PASV ... готово.  ==> RETR SRR1705860.fastq.gz ... готово.\n",
      "Размер (байт): 14372113 (14M) (не достоверно)\n",
      "\n",
      "SRR1705860.fastq.gz 100%[===================>]  13,71M  1,50MB/s    за 9,6s    \n",
      "\n",
      "2024-11-22 16:37:14 (1,43 MB/s) - «SRR1705860.fastq.gz» сохранён [14372113]\n",
      "\n"
     ]
    }
   ],
   "source": [
    "#!conda install bioconda::parallel-fastq-dump\n",
    "!wget ftp://ftp.sra.ebi.ac.uk/vol1/fastq/SRR170/008/SRR1705858/SRR1705858.fastq.gz \n",
    "!wget ftp://ftp.sra.ebi.ac.uk/vol1/fastq/SRR170/009/SRR1705859/SRR1705859.fastq.gz \n",
    "!wget ftp://ftp.sra.ebi.ac.uk/vol1/fastq/SRR170/000/SRR1705860/SRR1705860.fastq.gz "
   ]
  },
  {
   "cell_type": "code",
   "execution_count": 29,
   "id": "5125ec70-7cce-4c3f-9f22-9f5d22070d95",
   "metadata": {},
   "outputs": [],
   "source": [
    "!mv SRR* ./control_data"
   ]
  },
  {
   "cell_type": "code",
   "execution_count": null,
   "id": "3f22bbd1-d291-4091-b67d-75714481758a",
   "metadata": {},
   "outputs": [
    {
     "name": "stdout",
     "output_type": "stream",
     "text": [
      "application/gzip\n"
     ]
    },
    {
     "name": "stderr",
     "output_type": "stream",
     "text": [
      "Started analysis of SRR1705851.fastq.gz\n",
      "Approx 5% complete for SRR1705851.fastq.gz\n",
      "Approx 10% complete for SRR1705851.fastq.gz\n",
      "Approx 15% complete for SRR1705851.fastq.gz\n",
      "Approx 20% complete for SRR1705851.fastq.gz\n",
      "Approx 25% complete for SRR1705851.fastq.gz\n",
      "Approx 30% complete for SRR1705851.fastq.gz\n",
      "Approx 35% complete for SRR1705851.fastq.gz\n",
      "Approx 40% complete for SRR1705851.fastq.gz\n",
      "Approx 45% complete for SRR1705851.fastq.gz\n",
      "Approx 50% complete for SRR1705851.fastq.gz\n",
      "Approx 55% complete for SRR1705851.fastq.gz\n",
      "Approx 60% complete for SRR1705851.fastq.gz\n",
      "Approx 65% complete for SRR1705851.fastq.gz\n",
      "Approx 70% complete for SRR1705851.fastq.gz\n",
      "Approx 75% complete for SRR1705851.fastq.gz\n",
      "Approx 80% complete for SRR1705851.fastq.gz\n",
      "Approx 85% complete for SRR1705851.fastq.gz\n",
      "Approx 90% complete for SRR1705851.fastq.gz\n",
      "Approx 95% complete for SRR1705851.fastq.gz\n"
     ]
    },
    {
     "name": "stdout",
     "output_type": "stream",
     "text": [
      "Analysis complete for SRR1705851.fastq.gz\n"
     ]
    },
    {
     "name": "stderr",
     "output_type": "stream",
     "text": [
      "TrimmomaticSE: Started with arguments:\n",
      " -phred33 SRR1705851.fastq.gz SRR1705851_trim.fastq LEADING:20 TRAILING:20 SLIDINGWINDOW:10:20 MINLEN:30\n",
      "Automatically using 1 threads\n",
      "Input Reads: 358265 Surviving: 356827 (99,60%) Dropped: 1438 (0,40%)\n",
      "TrimmomaticSE: Completed successfully\n"
     ]
    },
    {
     "name": "stdout",
     "output_type": "stream",
     "text": [
      "null\n"
     ]
    },
    {
     "name": "stderr",
     "output_type": "stream",
     "text": [
      "Started analysis of SRR1705851_trim.fastq\n",
      "Approx 5% complete for SRR1705851_trim.fastq\n",
      "Approx 10% complete for SRR1705851_trim.fastq\n",
      "Approx 15% complete for SRR1705851_trim.fastq\n",
      "Approx 20% complete for SRR1705851_trim.fastq\n",
      "Approx 25% complete for SRR1705851_trim.fastq\n",
      "Approx 30% complete for SRR1705851_trim.fastq\n",
      "Approx 35% complete for SRR1705851_trim.fastq\n",
      "Approx 40% complete for SRR1705851_trim.fastq\n",
      "Approx 45% complete for SRR1705851_trim.fastq\n",
      "Approx 50% complete for SRR1705851_trim.fastq\n",
      "Approx 55% complete for SRR1705851_trim.fastq\n",
      "Approx 60% complete for SRR1705851_trim.fastq\n",
      "Approx 65% complete for SRR1705851_trim.fastq\n",
      "Approx 70% complete for SRR1705851_trim.fastq\n",
      "Approx 75% complete for SRR1705851_trim.fastq\n",
      "Approx 80% complete for SRR1705851_trim.fastq\n",
      "Approx 85% complete for SRR1705851_trim.fastq\n",
      "Approx 90% complete for SRR1705851_trim.fastq\n",
      "Approx 95% complete for SRR1705851_trim.fastq\n"
     ]
    },
    {
     "name": "stdout",
     "output_type": "stream",
     "text": [
      "Analysis complete for SRR1705851_trim.fastq\n"
     ]
    }
   ],
   "source": [
    "from glob import glob\n",
    "import os\n",
    "\n",
    "wrkdir = '/home/bulat/IB-2024-2025/Practbioinf/Project2'\n",
    "\n",
    "os.makedirs('./control_aln',  exist_ok=True) # make control alignment directory\n",
    "os.makedirs('./control_variants',  exist_ok=True)\n",
    "os.chdir(wrkdir+'/control_data') # go to directory with control sequncing data\n",
    "os.makedirs('./fastqc_report',  exist_ok=True)\n",
    "\n",
    "for fastq_file in enumerate(sorted(glob('*.fastq.gz'))):\n",
    "    \n",
    "    prefix = fastq_file[1].split('.')[0]\n",
    "    \n",
    "    cmd1 = f'fastqc -o ./fastqc_report {fastq_file[1]} --threads 12'\n",
    "    os.system(cmd1)\n",
    "    \n",
    "    cmd2 = f'trimmomatic SE -phred33 {fastq_file[1]} {prefix}_trim.fastq LEADING:20 TRAILING:20 SLIDINGWINDOW:10:20 MINLEN:30'\n",
    "    os.system(cmd2)\n",
    "    \n",
    "    cmd3 = f'fastqc -o ./fastqc_report {prefix}_trim.fastq --threads 12'\n",
    "    os.system(cmd3)\n",
    "    \n",
    "    cmd4 = f'bwa mem ../ref/HA_ref {prefix}_trim.fastq | samtools view -S -b - | samtools sort -o ../control_aln/{prefix}_alignment.bam'\n",
    "    os.system(cmd4)\n",
    "    \n",
    "    cmd5 = f'samtools flagstat ../control_aln/{prefix}_alignment.bam'\n",
    "    os.system(cmd5)\n",
    "    \n",
    "    cmd6 = f'samtools sort ../control_aln/{prefix}_alignment.bam -o ../control_aln/{prefix}_alignment_sorted.bam'\n",
    "    os.system(cmd6)\n",
    "    \n",
    "    cmd7 = f'samtools index ../control_aln/{prefix}_alignment_sorted.bam'\n",
    "    os.system(cmd7)\n",
    "    \n",
    "    cmd8 = f'samtools mpileup -d 20000 -f ../ref/HA_ref.fasta ../control_aln/{prefix}_alignment_sorted.bam > ../control_variants/{prefix}.mpileup'\n",
    "    os.system(cmd8)\n",
    "    \n",
    "    cmd9 = f'varscan mpileup2snp ../control_variants/{prefix}.mpileup --min-var-freq 0.001 --variants --output-vcf 1 > ../control_variants/{prefix}_VarScan_0.001.vcf'\n",
    "    os.system(cmd9)\n",
    "\n",
    "    \n",
    "    cmd10 = f\"cat ../control_variants/{prefix}_VarScan_0.001.vcf\" + \" | awk 'NR>24 { split($10, subfield, \\\":\\\"); print $1, $2, $4, $5, subfield[7] }'\" + f\" > ../control_variants/{prefix}_muts.txt\"\n",
    "    os.system(cmd10)\n",
    "\n",
    "os.chdir(wrkdir)"
   ]
  },
  {
   "cell_type": "code",
   "execution_count": 62,
   "id": "2b464dbc-b6a2-4f78-b493-6726a3e5913e",
   "metadata": {},
   "outputs": [
    {
     "name": "stdout",
     "output_type": "stream",
     "text": [
      "SRR1705851\n",
      "count    18.000000\n",
      "mean     27.972222\n",
      "std      45.889943\n",
      "min       0.190000\n",
      "25%       0.202500\n",
      "50%       0.240000\n",
      "75%      75.022500\n",
      "max      99.960000\n",
      "Name: 4, dtype: float64\n",
      "\n",
      "SRR1705858\n",
      "count    52.000000\n",
      "mean      0.262308\n",
      "std       0.071335\n",
      "min       0.190000\n",
      "25%       0.220000\n",
      "50%       0.250000\n",
      "75%       0.282500\n",
      "max       0.660000\n",
      "Name: 4, dtype: float64\n",
      "\n",
      "SRR1705859\n",
      "count    43.000000\n",
      "mean      0.247209\n",
      "std       0.053778\n",
      "min       0.190000\n",
      "25%       0.210000\n",
      "50%       0.240000\n",
      "75%       0.250000\n",
      "max       0.480000\n",
      "Name: 4, dtype: float64\n",
      "\n",
      "SRR1705860\n",
      "count    52.000000\n",
      "mean      0.263462\n",
      "std       0.081286\n",
      "min       0.190000\n",
      "25%       0.220000\n",
      "50%       0.250000\n",
      "75%       0.272500\n",
      "max       0.700000\n",
      "Name: 4, dtype: float64\n",
      "\n"
     ]
    }
   ],
   "source": [
    "import pandas as pd \n",
    "from glob import glob\n",
    "import os \n",
    "\n",
    "wrkdir = '/home/bulat/IB-2024-2025/Practbioinf/Project2'\n",
    "os.chdir(wrkdir + '/control_variants')\n",
    "\n",
    "for muts_file in enumerate(sorted(glob('*_muts.txt'))):\n",
    "    data = pd.read_csv(muts_file[1], header=None, index_col=None, sep=' ')\n",
    "    \n",
    "    # Убираем символы процента и запятые, затем преобразуем в float\n",
    "    data[4] = data[4].replace({'%': ''}, regex=True).astype(float)\n",
    "    \n",
    "    # Печатаем имя файла (prefix) и статистику для 4-го столбца\n",
    "    print(muts_file[1].split('_')[0])\n",
    "    print(data[4].describe())  # Статистика для 4-го столбца\n",
    "    print()\n",
    "\n",
    "os.chdir(wrkdir)\n"
   ]
  },
  {
   "cell_type": "code",
   "execution_count": 32,
   "id": "7f6424a0-c311-49c6-a144-9e4c81e2f74a",
   "metadata": {},
   "outputs": [
    {
     "data": {
      "text/plain": [
       "0.518683"
      ]
     },
     "execution_count": 32,
     "metadata": {},
     "output_type": "execute_result"
    }
   ],
   "source": [
    "0.280000 + (0.079561 * 3)"
   ]
  },
  {
   "cell_type": "code",
   "execution_count": 33,
   "id": "27bfdd3a-3da0-439e-9e53-800fe0db76cb",
   "metadata": {},
   "outputs": [
    {
     "data": {
      "text/plain": [
       "0.431129"
      ]
     },
     "execution_count": 33,
     "metadata": {},
     "output_type": "execute_result"
    }
   ],
   "source": [
    "0.263939 + (0.055730 * 3)"
   ]
  },
  {
   "cell_type": "code",
   "execution_count": 34,
   "id": "4e6e0aa9-c50a-4861-adb7-db987fe93cc6",
   "metadata": {},
   "outputs": [
    {
     "data": {
      "text/plain": [
       "0.5405260000000001"
      ]
     },
     "execution_count": 34,
     "metadata": {},
     "output_type": "execute_result"
    }
   ],
   "source": [
    "0.280000 + (0.086842 * 3)"
   ]
  },
  {
   "cell_type": "code",
   "execution_count": 63,
   "id": "997f5f27-83db-49d0-ac54-a9b23f0bd884",
   "metadata": {},
   "outputs": [
    {
     "data": {
      "text/html": [
       "<div>\n",
       "<style scoped>\n",
       "    .dataframe tbody tr th:only-of-type {\n",
       "        vertical-align: middle;\n",
       "    }\n",
       "\n",
       "    .dataframe tbody tr th {\n",
       "        vertical-align: top;\n",
       "    }\n",
       "\n",
       "    .dataframe thead th {\n",
       "        text-align: right;\n",
       "    }\n",
       "</style>\n",
       "<table border=\"1\" class=\"dataframe\">\n",
       "  <thead>\n",
       "    <tr style=\"text-align: right;\">\n",
       "      <th></th>\n",
       "      <th>0</th>\n",
       "      <th>1</th>\n",
       "      <th>2</th>\n",
       "      <th>3</th>\n",
       "      <th>4</th>\n",
       "    </tr>\n",
       "  </thead>\n",
       "  <tbody>\n",
       "    <tr>\n",
       "      <th>0</th>\n",
       "      <td>KF848938.1</td>\n",
       "      <td>72</td>\n",
       "      <td>A</td>\n",
       "      <td>G</td>\n",
       "      <td>99.94</td>\n",
       "    </tr>\n",
       "    <tr>\n",
       "      <th>1</th>\n",
       "      <td>KF848938.1</td>\n",
       "      <td>117</td>\n",
       "      <td>C</td>\n",
       "      <td>T</td>\n",
       "      <td>99.73</td>\n",
       "    </tr>\n",
       "    <tr>\n",
       "      <th>5</th>\n",
       "      <td>KF848938.1</td>\n",
       "      <td>307</td>\n",
       "      <td>C</td>\n",
       "      <td>T</td>\n",
       "      <td>0.90</td>\n",
       "    </tr>\n",
       "    <tr>\n",
       "      <th>8</th>\n",
       "      <td>KF848938.1</td>\n",
       "      <td>774</td>\n",
       "      <td>T</td>\n",
       "      <td>C</td>\n",
       "      <td>99.96</td>\n",
       "    </tr>\n",
       "    <tr>\n",
       "      <th>12</th>\n",
       "      <td>KF848938.1</td>\n",
       "      <td>999</td>\n",
       "      <td>C</td>\n",
       "      <td>T</td>\n",
       "      <td>99.86</td>\n",
       "    </tr>\n",
       "    <tr>\n",
       "      <th>15</th>\n",
       "      <td>KF848938.1</td>\n",
       "      <td>1260</td>\n",
       "      <td>A</td>\n",
       "      <td>C</td>\n",
       "      <td>99.92</td>\n",
       "    </tr>\n",
       "    <tr>\n",
       "      <th>17</th>\n",
       "      <td>KF848938.1</td>\n",
       "      <td>1458</td>\n",
       "      <td>T</td>\n",
       "      <td>C</td>\n",
       "      <td>0.81</td>\n",
       "    </tr>\n",
       "  </tbody>\n",
       "</table>\n",
       "</div>"
      ],
      "text/plain": [
       "             0     1  2  3      4\n",
       "0   KF848938.1    72  A  G  99.94\n",
       "1   KF848938.1   117  C  T  99.73\n",
       "5   KF848938.1   307  C  T   0.90\n",
       "8   KF848938.1   774  T  C  99.96\n",
       "12  KF848938.1   999  C  T  99.86\n",
       "15  KF848938.1  1260  A  C  99.92\n",
       "17  KF848938.1  1458  T  C   0.81"
      ]
     },
     "execution_count": 63,
     "metadata": {},
     "output_type": "execute_result"
    }
   ],
   "source": [
    "import pandas as pd \n",
    "\n",
    "THRESHOLD = 0.54\n",
    "\n",
    "data = pd.read_csv('./variants/flu_muts.txt', header=None, index_col=None, sep=' ')\n",
    "data[4] = data[4].replace({'%': ''}, regex=True).astype(float)\n",
    "data.drop(data[data[4] <= THRESHOLD].index)"
   ]
  },
  {
   "cell_type": "markdown",
   "id": "0a5b8868-ed0f-44b4-a020-16701f092f14",
   "metadata": {},
   "source": [
    "307 мутация C -> T находится в эпитопе С. Пролин меняется на серин (P -> S)"
   ]
  },
  {
   "cell_type": "code",
   "execution_count": null,
   "id": "97b41e7c-8b74-4ede-bb84-f50b364ae44e",
   "metadata": {},
   "outputs": [],
   "source": []
  }
 ],
 "metadata": {
  "kernelspec": {
   "display_name": "Python 3 (ipykernel)",
   "language": "python",
   "name": "python3"
  },
  "language_info": {
   "codemirror_mode": {
    "name": "ipython",
    "version": 3
   },
   "file_extension": ".py",
   "mimetype": "text/x-python",
   "name": "python",
   "nbconvert_exporter": "python",
   "pygments_lexer": "ipython3",
   "version": "3.13.0"
  }
 },
 "nbformat": 4,
 "nbformat_minor": 5
}

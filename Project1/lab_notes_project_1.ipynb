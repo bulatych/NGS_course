{
 "cells": [
  {
   "cell_type": "markdown",
   "id": "dd41162d-69ae-4c3f-9eba-dd616a8db9ef",
   "metadata": {},
   "source": [
    "# Project 1 “What causes antibiotic resistance?” Alignment to reference, variant calling.\n"
   ]
  },
  {
   "cell_type": "markdown",
   "id": "d416fb78-dc36-45e2-b425-7512d3e5bdc0",
   "metadata": {},
    "source": ["#### Rakhimov Bulat"
   ]
  },
  {
   "cell_type": "markdown",
   "id": "893697f1-bd86-4e19-bec3-351ecc85487f",
   "metadata": {},
   "source": [ "27.10.2024
    Today I start working on project #1 connected with searching mutations(SNPs) in _E.Coli_ _K12 MG1655_ genome. During this work basic steps like quality control, alignment to reference and variant calling will be demonstrated.\n",
    "\n",
    "Our input data we are going to analyze:\n",
    "1) Reference sequence of the parental (unevolved, not resistant to antibiotics) [E. coli strain.](https://ftp.ncbi.nlm.nih.gov/genomes/all/GCF/000/005/845/GCF_000005845.2_ASM584v2/) Here sequence in fasta format (GCF_000005845.2_ASM584v2_genomic.fna.gz) and annotation in .gff format(*_genomic.gff.gz).\n",
    "2)  This is E.coli strain K-12 substrain MG1655. More information about this genome can be [here](https://www.ncbi.nlm.nih.gov/datasets/genome/GCF_000005845.2/).\n",
    "3) Raw Illumina sequencing reads from shotgun sequencing of an [E. coli](https://doi.org/10.6084/m9.figshare.10006541.v3) strain that is resistant to the antibiotic ampicillin: (1 and 2 refer to forward and reverse, this was a paired end run).\n",
    "\n"
   ]
  },
  {
   "cell_type": "markdown",
   "id": "e0b6c065-7fb0-4fb2-a09c-9ee5f00052f2",
   "metadata": {},
   "source": [
    "For this project many different tools need to be installed: `seqkit`, `fastqc`, `trimmomatic`, `bwa`, `samtools`, `varscan`, `snpeff`. Let's start with instllation all of them."
   ]
  },
  {
   "cell_type": "code",
   "execution_count": 6,
   "id": "62d24b34-67ac-47b2-a9cd-e2a0b3b3e2cb",
   "metadata": {},
   "outputs": [],
   "source": [
    "!conda install -c bioconda seqkit # allows to get statistics for raw reads\n",
    "!conda install bioconda::fastqc # fastqc makes  an overview of qulity of reads\n",
    "!conda install bioconda::trimmomatic # trimmomatic is necessary to remove adapters, remove bad quality reeds\n",
    "!conda install bwa # tool for alignment to reference sequence\n",
    "!conda install bioconda::samtools # allows to proccess data in SAM, BAM, mpileup formats\n",
    "!conda install bioconda::varscan # variant calling\n",
    "!conda install bioconda::snpeff # automaticcaly variants annotation"
   ]
  },
  {
   "cell_type": "markdown",
   "id": "3456582f-40d5-4e6d-9365-732a74c4e68c",
   "metadata": {},
   "source": [
    "First take a look at our data first, using command head:"
   ]
  },
  {
   "cell_type": "code",
   "execution_count": 7,
   "id": "aa67c1a4-94b6-4e88-a589-43cefa357670",
   "metadata": {
    "scrolled": true
   },
   "outputs": [],
   "source": [
    "!head -20 GCF_000005845.2_ASM584v2_genomic.fna \n"
   ]
  },
  {
   "cell_type": "code",
   "execution_count": 8,
   "id": "c45cf56b-c439-4546-82b3-2178833acc68",
   "metadata": {
    "scrolled": true
   },
   "outputs": [],
   "source": [
    "!cat GCF_000005845.2_ASM584v2_genomic.gff | head -10\n"
   ]
  },
  {
   "cell_type": "markdown",
   "id": "be5d2e20-3421-4d6b-8334-4ac68cfc2712",
   "metadata": {},
   "source": [
    "Also let’s count the original amount of lines in fastq files to understand initial amount of reads:"
   ]
  },
  {
   "cell_type": "code",
   "execution_count": 13,
   "id": "ac311a04-091a-44f5-a1d1-091961188af0",
   "metadata": {},
   "outputs": [
    {
     "name": "stdout",
     "output_type": "stream",
     "text": [
      "  1823504 amp_res_1.fastq\n",
      "  1823504 amp_res_2.fastq\n",
      "  3647008 итого\n"
     ]
    }
   ],
   "source": [
    "!wc -l amp_res_*"
   ]
  },
  {
   "cell_type": "code",
   "execution_count": 16,
   "id": "949c79cd-c83f-4fbc-8db7-d07b57ace498",
   "metadata": {
    "scrolled": true
   },
   "outputs": [
    {
     "name": "stdout",
     "output_type": "stream",
     "text": [
      "Total amount of reads:455876.0\n"
     ]
    }
   ],
   "source": [
    "print(f'Total amount of reads:{1823504/4}')\n"
   ]
  },
  {
   "cell_type": "markdown",
   "id": "b7cc11fa-3c4b-4cce-af16-14bdc834bc79",
   "metadata": {},
   "source": [
    "In addition to manual inspection, we may use tool `seqkit` to get detailed statistics about equencing data.\n"
   ]
  },
  {
   "cell_type": "code",
   "execution_count": 20,
   "id": "b469163e-f7a7-4336-b6d5-4704e642d505",
   "metadata": {},
   "outputs": [
    {
     "name": "stdout",
     "output_type": "stream",
     "text": [
      "file             format  type  num_seqs     sum_len  min_len  avg_len  max_len\n",
      "amp_res_1.fastq  FASTQ   DNA    455,876  46,043,476      101      101      101\n",
      "file             format  type  num_seqs     sum_len  min_len  avg_len  max_len\n",
      "amp_res_2.fastq  FASTQ   DNA    455,876  46,043,476      101      101      101\n"
     ]
    }
   ],
   "source": [
    "!seqkit stats amp_res_1.fastq\n",
    "!seqkit stats amp_res_2.fastq"
   ]
  },
  {
   "cell_type": "markdown",
   "id": "471be03a-4f03-4072-9918-a9f262063a04",
   "metadata": {},
   "source": [
    "## Data quality control"
   ]
  },
  {
   "cell_type": "markdown",
   "id": "8679329c-72e0-4822-af58-8ee8b4af6989",
   "metadata": {},
   "source": [
    "After downloading raw sequences we may make a quick impression of whether our data has any problems of which we should be aware before doing any further analysis. FastQc allows to do some quality control checks on raw sequence data."
   ]
  },
  {
   "cell_type": "code",
   "execution_count": 22,
   "id": "9fe9b86e-e6bf-44b4-a6ee-88a182103386",
   "metadata": {},
   "outputs": [],
   "source": [
    "! fastqc -h # Check that programm is working and properly installed"
   ]
  },
  {
   "cell_type": "markdown",
   "id": "50444962-f1ed-4162-b8f8-b0281b9a9ae6",
   "metadata": {},
   "source": [
    "First, create a directory for FastQC reports and than run command."
   ]
  },
  {
   "cell_type": "code",
   "execution_count": null,
   "id": "7870d7f3-4a5e-441a-bef4-560051734253",
   "metadata": {
    "scrolled": true
   },
   "outputs": [],
   "source": [
    "!mkdir FastQC\n",
    "!fastqc -o FastQC amp_res_1.fastq amp_res_2.fastq "
   ]
  },
  {
   "cell_type": "markdown",
   "id": "3dc536a5-52fb-4909-8e69-a62183a562ff",
   "metadata": {},
   "source": [
    "We open the report for forward and reverse readings and observe the following results:\n",
    "1. The number of rows is 455876, which coincides with the previously calculated values\n",
    "2.  Several sections have not passed quality control and have a red(very unusual) or yellow(slightly abnormal) designation:\n",
    "   - Per base sequence quality\n",
    "   - Per tile sequence quality\n",
    "   - Per base sequence content\n",
    "   - Per sequence GC content\n",
    "\n",
    "A few words about this plots:\n",
    "\n",
    "**Per base sequence quality**:  provides the distribution of quality scores at each position in the read across all reads.\n",
    "\n",
    "According to documentation a warning will be issued if the lower quartile for any base is less than 10, or if the median for any base is less than 25. We can easily see that by the end the quality of the reads is noticeably decreasing, especially the 96-97 positions.\n",
    "The main reason for the decreasing sequence quality is the so-called phasing that means that the blocker of a nucleotide is not correctly removed after signal detection.\n",
    "\n",
    "**Per tile sequence quality**:  this plot enables to look at the quality scores from each tile across all of your bases to see if there was a loss in quality associated with only one part of the flowcell\n",
    "\n",
    "**Per base sequence content**:  provides the proportion of each base position in a file for which each of the four normal DNA bases has been called.\n",
    "\n",
    "**Per sequence GC content**:this module measures the GC content across the whole length of each sequence in a file and compares it to a modelled normal distribution of GC content."
   ]
  },
  {
   "cell_type": "markdown",
   "id": "96d748fc-e267-4004-8314-eb8898aba962",
   "metadata": {},
   "source": [
    "To improve the quality of our data, we will use `TrimmomaticPE` to trim technical sequences and remove low-quality reads.  Let's set the values of the parameters by which the readings will be filtered:\n",
    "\n",
    "      - ILLUMINACLIP:NexteraPE-PE.fa:2:30:10:2. NexteraPE-PE.fa - file with Nextera Transposase sequences \n",
    "      - LEADING:20,  TRAILING:20 \n",
    "      - SLIDINGWINDOW:10:20 - a sliding window method for evaluating the quality of sequences. \n",
    "      - MINLEN:20 - the min length of reads"
   ]
  },
  {
   "cell_type": "code",
   "execution_count": 16,
   "id": "f9bd8108-c7dd-4d11-8bca-eb7b827c20f2",
   "metadata": {},
   "outputs": [
    {
     "name": "stdout",
     "output_type": "stream",
     "text": [
      "mkdir: невозможно создать каталог «TrimmomaticReads»: Файл существует\n",
      "TrimmomaticPE: Started with arguments:\n",
      " -phred33 ./amp_res_1.fastq ./amp_res_2.fastq ./TrimmomaticReads/output_1_paired.fq.gz ./TrimmomaticReads/output_1_unpaired.fq.gz ./TrimmomaticReads/output_2_paired.fq.gz ./TrimmomaticReads/output_2_unpaired.fq.gz ILLUMINACLIP:./NexteraPE-PE.fa:2:30:10:2:True LEADING:20 SLIDINGWINDOW:10:20 TRAILING:20 MINLEN:20\n",
      "Using PrefixPair: 'AGATGTGTATAAGAGACAG' and 'AGATGTGTATAAGAGACAG'\n",
      "Using Long Clipping Sequence: 'GTCTCGTGGGCTCGGAGATGTGTATAAGAGACAG'\n",
      "Using Long Clipping Sequence: 'TCGTCGGCAGCGTCAGATGTGTATAAGAGACAG'\n",
      "Using Long Clipping Sequence: 'CTGTCTCTTATACACATCTCCGAGCCCACGAGAC'\n",
      "Using Long Clipping Sequence: 'CTGTCTCTTATACACATCTGACGCTGCCGACGA'\n",
      "ILLUMINACLIP: Using 1 prefix pairs, 4 forward/reverse sequences, 0 forward only sequences, 0 reverse only sequences\n",
      "Input Read Pairs: 455876 Both Surviving: 446249 (97,89%) Forward Only Surviving: 9218 (2,02%) Reverse Only Surviving: 281 (0,06%) Dropped: 128 (0,03%)\n",
      "TrimmomaticPE: Completed successfully\n"
     ]
    }
   ],
   "source": [
    "!mkdir TrimmomaticReads\n",
    "# Run Trimmomatic\n",
    "!trimmomatic PE -phred33 ./amp_res_1.fastq ./amp_res_2.fastq \\\n",
    "    ./TrimmomaticReads/output_1_paired.fq.gz ./TrimmomaticReads/output_1_unpaired.fq.gz \\\n",
    "    ./TrimmomaticReads/output_2_paired.fq.gz ./TrimmomaticReads/output_2_unpaired.fq.gz \\\n",
    "    ILLUMINACLIP:./NexteraPE-PE.fa:2:30:10:2:True \\\n",
    "    LEADING:20 SLIDINGWINDOW:10:20 TRAILING:20 MINLEN:20\n"
   ]
  },
  {
   "cell_type": "markdown",
   "id": "5ebf920e-b711-4c85-92c5-a0e4ac1c37ab",
   "metadata": {},
   "source": [
    "Here we can see infromation how much reads passed filtering (both, forward only, reverse only surviving) and amount of dropped reads. We wiil continue working only with reads where both strands survived. After trimming we can check how the quality of data was changed. As we gonna work only with paired reads run fastqc only for them again."
   ]
  },
  {
   "cell_type": "code",
   "execution_count": null,
   "id": "dfcd6135-a7be-4b66-8a12-38a2dbefdd98",
   "metadata": {
    "scrolled": true
   },
   "outputs": [],
   "source": [
    "!fastqc ./TrimmomaticReads/output_1_paired.fq.gz ./TrimmomaticReads/output_2_paired.fq.gz -o ./FastQC"
   ]
  },
  {
   "cell_type": "markdown",
   "id": "abf1bddb-1ce0-41b0-b083-f9c89ca2a65b",
   "metadata": {},
   "source": [
    "Now let's check that everything is right and we have what we see."
   ]
  },
  {
   "cell_type": "code",
   "execution_count": 22,
   "id": "fa603781-62f4-4e74-82a8-05ef8faf8197",
   "metadata": {},
   "outputs": [
    {
     "name": "stdout",
     "output_type": "stream",
     "text": [
      "./TrimmomaticReads/output_1_paired.fq.gz: 446249 ридов\n",
      "./TrimmomaticReads/output_2_paired.fq.gz: 446249 ридов\n"
     ]
    }
   ],
   "source": [
    "!for file in ./TrimmomaticReads/output_1_paired.fq.gz ./TrimmomaticReads/output_2_paired.fq.gz; do \\\n",
    "    echo \"$file: $(zcat \"$file\" | wc -l | awk '{print $1 / 4}') ридов\"; \\\n",
    "done\n"
   ]
  },
  {
   "cell_type": "markdown",
   "id": "4402312c-dbac-44ae-b4c3-b46f43a55e8d",
   "metadata": {},
   "source": [
    "Alright, everything seems good. Now we continue with alignment our reads to reference genome.\n",
    "\n"
   ]
  },
  {
   "cell_type": "markdown",
   "id": "ad5047ad-b25b-49d1-bda4-e25b5eccaab2",
   "metadata": {},
   "source": [
    "## Alignment"
   ]
  },
  {
   "cell_type": "markdown",
   "id": "84c1e0b2-3800-44eb-82a8-eb0ecc16aba0",
   "metadata": {},
   "source": [
    "First, it's necessary to index reference genome to make alignment process faster. After this wi will use command `bwa-mem` for mapping our reads"
   ]
  },
  {
   "cell_type": "code",
   "execution_count": null,
   "id": "084d4d37-62aa-46dd-a14d-34a2979376cf",
   "metadata": {
    "scrolled": true
   },
   "outputs": [],
   "source": [
    "# index reference file\n",
    "!bwa index GCF_000005845.2_ASM584v2_genomic.fna \n",
    "# align trimmed reads to reference\n",
    "!bwa mem GCF_000005845.2_ASM584v2_genomic.fna ./TrimmomaticReads/output_1_paired.fq.gz ./TrimmomaticReads/output_2_paired.fq.gz > ./alignment/alignment.sam\n"
   ]
  },
  {
   "cell_type": "markdown",
   "id": "4b681237-cc2d-4617-9fc4-f4e3aa2811a9",
   "metadata": {},
   "source": [
    "The SAM file contains all reads, whether they are successfully aligned or not. For bioinformatics pipelines, it’s important to know what fraction of your reads was aligned to estimate contaminations if any.\n",
    "First, we need to compress and sort the SAM file with the commands below. A compressed SAM file is called a BAM file. \n",
    "BAM files need to be sorted and indexed. This indexing is different from the reference indexing. For BAM file indexing, given a coordinate-sorted bam file, you can pull reads from desired positions very quickly, instead of having to iterate over the entire file each time you look for a specific coordinate."
   ]
  },
  {
   "cell_type": "code",
   "execution_count": 33,
   "id": "14fc5e78-412b-4afb-a7a2-62671f0f4068",
   "metadata": {},
   "outputs": [],
   "source": [
    "# compress SAM to BAM\n",
    "!samtools view -S -b ./alignment/alignment.sam > ./alignment/alignment.bam\n"
   ]
  },
  {
   "cell_type": "code",
   "execution_count": 34,
   "id": "bca621d7-1424-4545-acbe-c18182577142",
   "metadata": {},
   "outputs": [],
   "source": [
    "# sort BAM file by sequence coordinate on reference\n",
    "!samtools sort ./alignment/alignment.bam -o ./alignment/alignment_sorted.bam\n"
   ]
  },
  {
   "cell_type": "code",
   "execution_count": 35,
   "id": "14c10f86-10ad-4ad4-ae45-0f86fc36595c",
   "metadata": {},
   "outputs": [],
   "source": [
    "# index BAM file for faster search\n",
    "!samtools index ./alignment/alignment_sorted.bam\n"
   ]
  },
  {
   "cell_type": "markdown",
   "id": "c443d354-4b35-49b5-8c75-e9f2e3e5be73",
   "metadata": {},
   "source": [
    "We can get some basic statistics about alignment"
   ]
  },
  {
   "cell_type": "code",
   "execution_count": 39,
   "id": "185e8bee-6fe2-4947-a946-bf092759805e",
   "metadata": {},
   "outputs": [
    {
     "name": "stdout",
     "output_type": "stream",
     "text": [
      "892755 + 0 in total (QC-passed reads + QC-failed reads)\n",
      "892498 + 0 primary\n",
      "0 + 0 secondary\n",
      "257 + 0 supplementary\n",
      "0 + 0 duplicates\n",
      "0 + 0 primary duplicates\n",
      "891628 + 0 mapped (99.87% : N/A)\n",
      "891371 + 0 primary mapped (99.87% : N/A)\n",
      "892498 + 0 paired in sequencing\n",
      "446249 + 0 read1\n",
      "446249 + 0 read2\n",
      "888532 + 0 properly paired (99.56% : N/A)\n",
      "890392 + 0 with itself and mate mapped\n",
      "979 + 0 singletons (0.11% : N/A)\n",
      "0 + 0 with mate mapped to a different chr\n",
      "0 + 0 with mate mapped to a different chr (mapQ>=5)\n"
     ]
    }
   ],
   "source": [
    "!samtools flagstat ./alignment/alignment.bam"
   ]
  },
  {
   "cell_type": "markdown",
   "id": "500d21a1-dbb8-4be0-bf2e-76ff3c80c00b",
   "metadata": {},
   "source": [
    "All reads passed QC.\n",
    "891628 reads (99.87%) were aligned to the reference genome, of which 888532\n",
    "(99.56%) were correctly aligned, i.e. both sequences in a pair are located at the\n",
    "expected distance and oriented in opposite directions. The share of single reads\n",
    "was 0.11%."
   ]
  },
  {
   "cell_type": "markdown",
   "id": "b1f82fd8-f060-4d4e-b0e5-c86f82910862",
   "metadata": {},
   "source": [
    "## Variant calling"
   ]
  },
  {
   "cell_type": "markdown",
   "id": "80274c7d-ad69-4d5e-ab38-7449b709558e",
   "metadata": {},
   "source": [
    "The goal now is to go through our data, and for each position in the reference, see how many reads have a mutation at the same position - we want to distinguish actual mutations frome sequencing errors. The solution is to make an intermediate file type called an mpileup, because it goes through each position and “piles up” the reads, tabulating the number of bases that match or don’t match the reference.\n"
   ]
  },
  {
   "cell_type": "code",
   "execution_count": 40,
   "id": "74dcfa6c-2883-44f2-9165-3a89411724bc",
   "metadata": {},
   "outputs": [
    {
     "name": "stdout",
     "output_type": "stream",
     "text": [
      "[mpileup] 1 samples in 1 input files\n"
     ]
    }
   ],
   "source": [
    "!samtools mpileup -f GCF_000005845.2_ASM584v2_genomic.fna ./alignment/alignment_sorted.bam >  ./variants/my.mpileup\n"
   ]
  },
  {
   "cell_type": "markdown",
   "id": "a253950b-15db-46d7-ab55-49a0bd84dc1d",
   "metadata": {},
   "source": [
    "To call actual variants, we will be using a program called VarScan. Run VarScan on the mpileup.\n",
    "\n",
    "We set the `-min-var-freq` parameter to 50%, which mean the minimum percentage of\n",
    "non-reference bases needed to determine the variant in the sample. \n",
    "\n",
    "`--variants` flag tells VarScan to only  output positions that are above our threshold, and `--output-vcf 1` option tells it we want the output in yet another kind of data format called vcf "
   ]
  },
  {
   "cell_type": "code",
   "execution_count": 1,
   "id": "5ed77b9c-1713-45ec-a820-79525710e5f8",
   "metadata": {
    "scrolled": true
   },
   "outputs": [
    {
     "name": "stdout",
     "output_type": "stream",
     "text": [
      "Only SNPs will be reported\n",
      "Warning: No p-value threshold provided, so p-values will not be calculated\n",
      "Min coverage:\t8\n",
      "Min reads2:\t2\n",
      "Min var freq:\t0.5\n",
      "Min avg qual:\t15\n",
      "P-value thresh:\t0.01\n",
      "Reading input from ./variants/resistance.mpileup\n",
      "4641495 bases in pileup file\n",
      "9 variant positions (6 SNP, 3 indel)\n",
      "0 were failed by the strand-filter\n",
      "6 variant positions reported (6 SNP, 0 indel)\n"
     ]
    }
   ],
   "source": [
    "!varscan mpileup2snp ./variants/resistance.mpileup --min-var-freq 0.50 --variants --output-vcf 1 > ./variants/resistance_VarScan_0.5.vcf"
   ]
  },
  {
   "cell_type": "markdown",
   "id": "e6059a58-b66c-43f7-a9dd-bffca74e38eb",
   "metadata": {},
   "source": [
    "Here we can see VarScan results. The program detected 6 SNPs."
   ]
  },
  {
   "cell_type": "markdown",
   "id": "bd9fa777-6cc4-4597-a746-94d5a66f2360",
   "metadata": {},
   "source": [
    "We can analyze called variants using IGV browser or make automatically annotations of SNPs using snpEff utility withcommands below"
   ]
  },
  {
   "cell_type": "code",
   "execution_count": 8,
   "id": "ed168fa8-066b-4091-aeb4-8512db9a2b47",
   "metadata": {
    "scrolled": true
   },
   "outputs": [],
   "source": [
    "# a) create empty text file snpEff.config, and add there just one string: k12.genome : ecoli_K12\n",
    "!touch snpEff.config\n",
    "!nano snpEff.config # k12.genome : ecoli_K12\n",
    "# b) create folder for the database\n",
    "!mkdir -p data/k12\n",
    "c) Put there .gbk file (unzip and rename to genes.gbk)\n",
    "!gunzip GCF_000005845.2_ASM584v2_genomic.gbff.gz\n",
    "!cp GCF_000005845.2_ASM584v2_genomic.gbff data/k12/genes.gbk\n",
    "d) create database and annotate\n",
    "!snpEff build -genbank -v k12\n",
    "!snpEff ann k12 resistance_VarScan_0.5.vcf > VarScan_results_annonated_0.5.vcf"
   ]
  },
  {
   "cell_type": "markdown",
   "id": "6e6e9a9a-709b-4148-9710-d43d0196001e",
   "metadata": {},
   "source": [
    "After work is done snpEff makes .html report with all detected SNPs"
   ]
  },
  {
   "cell_type": "markdown",
   "id": "d2139071-0c7c-40d7-a6f5-9722ef4acaab",
   "metadata": {},
   "source": [
    "Results:\n",
    "![Here is summary information about SNPs](summary.png)\n",
    "![Table codon changes](codons.png)\n",
    "![Table amino acid changes](aminoacids.png)"
   ]
  },
  {
   "cell_type": "code",
   "execution_count": null,
   "id": "a997c5b1-2438-402b-981d-0fe65860dfc0",
   "metadata": {},
   "outputs": [],
   "source": []
  }
 ],
 "metadata": {
  "kernelspec": {
   "display_name": "Python 3 (ipykernel)",
   "language": "python",
   "name": "python3"
  },
  "language_info": {
   "codemirror_mode": {
    "name": "ipython",
    "version": 3
   },
   "file_extension": ".py",
   "mimetype": "text/x-python",
   "name": "python",
   "nbconvert_exporter": "python",
   "pygments_lexer": "ipython3",
   "version": "3.13.0"
  }
 },
 "nbformat": 4,
 "nbformat_minor": 5
}
